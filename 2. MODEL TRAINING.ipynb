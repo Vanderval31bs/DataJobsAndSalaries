{
 "cells": [
  {
   "attachments": {},
   "cell_type": "markdown",
   "id": "92e48866",
   "metadata": {},
   "source": [
    "## Model Training"
   ]
  },
  {
   "cell_type": "markdown",
   "id": "25791a74",
   "metadata": {},
   "source": [
    "#### 1.1 Import Data and Required Packages\n",
    "Importing Pandas, Numpy, Matplotlib, Seaborn and Warings Library."
   ]
  },
  {
   "cell_type": "code",
   "execution_count": 76,
   "id": "b080dfb2",
   "metadata": {},
   "outputs": [],
   "source": [
    "# Basic Import\n",
    "import numpy as np\n",
    "import pandas as pd\n",
    "import matplotlib.pyplot as plt \n",
    "import seaborn as sns\n",
    "# Modelling\n",
    "from sklearn.metrics import mean_squared_error, r2_score\n",
    "from sklearn.neighbors import KNeighborsRegressor\n",
    "from sklearn.tree import DecisionTreeRegressor\n",
    "from sklearn.ensemble import RandomForestRegressor,AdaBoostRegressor,GradientBoostingRegressor\n",
    "from sklearn.svm import SVR\n",
    "from sklearn.linear_model import LinearRegression, Ridge,Lasso\n",
    "from sklearn.metrics import r2_score, mean_absolute_error, mean_squared_error\n",
    "from sklearn.model_selection import RandomizedSearchCV\n",
    "from sklearn.dummy import DummyRegressor\n",
    "from catboost import CatBoostRegressor\n",
    "from xgboost import XGBRegressor\n",
    "import warnings"
   ]
  },
  {
   "cell_type": "markdown",
   "id": "e45079ad",
   "metadata": {},
   "source": [
    "Import the CSV Data as Pandas DataFrame"
   ]
  },
  {
   "cell_type": "code",
   "execution_count": 77,
   "id": "e11c6255",
   "metadata": {},
   "outputs": [],
   "source": [
    "df = pd.read_csv('data/jobs_in_data_2024.csv')"
   ]
  },
  {
   "cell_type": "markdown",
   "id": "20634923",
   "metadata": {},
   "source": [
    "Show Top 5 Records"
   ]
  },
  {
   "cell_type": "code",
   "execution_count": 51,
   "id": "e7e412a2",
   "metadata": {},
   "outputs": [
    {
     "data": {
      "text/html": [
       "<div>\n",
       "<style scoped>\n",
       "    .dataframe tbody tr th:only-of-type {\n",
       "        vertical-align: middle;\n",
       "    }\n",
       "\n",
       "    .dataframe tbody tr th {\n",
       "        vertical-align: top;\n",
       "    }\n",
       "\n",
       "    .dataframe thead th {\n",
       "        text-align: right;\n",
       "    }\n",
       "</style>\n",
       "<table border=\"1\" class=\"dataframe\">\n",
       "  <thead>\n",
       "    <tr style=\"text-align: right;\">\n",
       "      <th></th>\n",
       "      <th>work_year</th>\n",
       "      <th>experience_level</th>\n",
       "      <th>employment_type</th>\n",
       "      <th>job_title</th>\n",
       "      <th>salary</th>\n",
       "      <th>salary_currency</th>\n",
       "      <th>salary_in_usd</th>\n",
       "      <th>employee_residence</th>\n",
       "      <th>work_setting</th>\n",
       "      <th>company_location</th>\n",
       "      <th>company_size</th>\n",
       "      <th>job_category</th>\n",
       "    </tr>\n",
       "  </thead>\n",
       "  <tbody>\n",
       "    <tr>\n",
       "      <th>0</th>\n",
       "      <td>2024</td>\n",
       "      <td>Entry-level</td>\n",
       "      <td>Freelance</td>\n",
       "      <td>Applied Data Scientist</td>\n",
       "      <td>30000</td>\n",
       "      <td>USD</td>\n",
       "      <td>30000</td>\n",
       "      <td>United Kingdom</td>\n",
       "      <td>Remote</td>\n",
       "      <td>United Kingdom</td>\n",
       "      <td>M</td>\n",
       "      <td>Data Science and Research</td>\n",
       "    </tr>\n",
       "    <tr>\n",
       "      <th>1</th>\n",
       "      <td>2024</td>\n",
       "      <td>Executive</td>\n",
       "      <td>Full-time</td>\n",
       "      <td>Business Intelligence</td>\n",
       "      <td>230000</td>\n",
       "      <td>USD</td>\n",
       "      <td>230000</td>\n",
       "      <td>United States</td>\n",
       "      <td>In-person</td>\n",
       "      <td>United States</td>\n",
       "      <td>M</td>\n",
       "      <td>BI and Visualization</td>\n",
       "    </tr>\n",
       "    <tr>\n",
       "      <th>2</th>\n",
       "      <td>2024</td>\n",
       "      <td>Executive</td>\n",
       "      <td>Full-time</td>\n",
       "      <td>Business Intelligence</td>\n",
       "      <td>176900</td>\n",
       "      <td>USD</td>\n",
       "      <td>176900</td>\n",
       "      <td>United States</td>\n",
       "      <td>In-person</td>\n",
       "      <td>United States</td>\n",
       "      <td>M</td>\n",
       "      <td>BI and Visualization</td>\n",
       "    </tr>\n",
       "    <tr>\n",
       "      <th>3</th>\n",
       "      <td>2024</td>\n",
       "      <td>Senior</td>\n",
       "      <td>Full-time</td>\n",
       "      <td>Data Architect</td>\n",
       "      <td>171210</td>\n",
       "      <td>USD</td>\n",
       "      <td>171210</td>\n",
       "      <td>Canada</td>\n",
       "      <td>In-person</td>\n",
       "      <td>Canada</td>\n",
       "      <td>M</td>\n",
       "      <td>Data Architecture and Modeling</td>\n",
       "    </tr>\n",
       "    <tr>\n",
       "      <th>4</th>\n",
       "      <td>2024</td>\n",
       "      <td>Senior</td>\n",
       "      <td>Full-time</td>\n",
       "      <td>Data Architect</td>\n",
       "      <td>92190</td>\n",
       "      <td>USD</td>\n",
       "      <td>92190</td>\n",
       "      <td>Canada</td>\n",
       "      <td>In-person</td>\n",
       "      <td>Canada</td>\n",
       "      <td>M</td>\n",
       "      <td>Data Architecture and Modeling</td>\n",
       "    </tr>\n",
       "  </tbody>\n",
       "</table>\n",
       "</div>"
      ],
      "text/plain": [
       "   work_year experience_level employment_type               job_title  salary  \\\n",
       "0       2024      Entry-level       Freelance  Applied Data Scientist   30000   \n",
       "1       2024        Executive       Full-time   Business Intelligence  230000   \n",
       "2       2024        Executive       Full-time   Business Intelligence  176900   \n",
       "3       2024           Senior       Full-time          Data Architect  171210   \n",
       "4       2024           Senior       Full-time          Data Architect   92190   \n",
       "\n",
       "  salary_currency  salary_in_usd employee_residence work_setting  \\\n",
       "0             USD          30000     United Kingdom       Remote   \n",
       "1             USD         230000      United States    In-person   \n",
       "2             USD         176900      United States    In-person   \n",
       "3             USD         171210             Canada    In-person   \n",
       "4             USD          92190             Canada    In-person   \n",
       "\n",
       "  company_location company_size                    job_category  \n",
       "0   United Kingdom            M       Data Science and Research  \n",
       "1    United States            M            BI and Visualization  \n",
       "2    United States            M            BI and Visualization  \n",
       "3           Canada            M  Data Architecture and Modeling  \n",
       "4           Canada            M  Data Architecture and Modeling  "
      ]
     },
     "execution_count": 51,
     "metadata": {},
     "output_type": "execute_result"
    }
   ],
   "source": [
    "df.head()"
   ]
  },
  {
   "cell_type": "markdown",
   "id": "fbd32281",
   "metadata": {},
   "source": [
    "#### Preparing X and Y variables"
   ]
  },
  {
   "cell_type": "code",
   "execution_count": 78,
   "id": "56d72fde",
   "metadata": {},
   "outputs": [],
   "source": [
    "X = df[df['employment_type'] == 'Full-time']\n",
    "X = X[X['work_setting'] != 'Hybrid']\n",
    "\n",
    "y = X['salary_in_usd']\n",
    "\n",
    "X = X.drop(columns=['salary', 'salary_in_usd', 'job_title', 'employee_residence', 'employment_type', 'salary_currency', 'work_year'],axis=1)\n",
    "\n",
    "top_5_countries = X['company_location'].value_counts().nlargest(5).index\n",
    "X['company_location'] = X['company_location'].apply(lambda x: x if x in top_5_countries else 'Other')\n",
    "\n",
    "# X['work_year'] = X['work_year'].astype('str')"
   ]
  },
  {
   "cell_type": "code",
   "execution_count": 65,
   "id": "cd613177",
   "metadata": {},
   "outputs": [
    {
     "data": {
      "text/html": [
       "<div>\n",
       "<style scoped>\n",
       "    .dataframe tbody tr th:only-of-type {\n",
       "        vertical-align: middle;\n",
       "    }\n",
       "\n",
       "    .dataframe tbody tr th {\n",
       "        vertical-align: top;\n",
       "    }\n",
       "\n",
       "    .dataframe thead th {\n",
       "        text-align: right;\n",
       "    }\n",
       "</style>\n",
       "<table border=\"1\" class=\"dataframe\">\n",
       "  <thead>\n",
       "    <tr style=\"text-align: right;\">\n",
       "      <th></th>\n",
       "      <th>experience_level</th>\n",
       "      <th>work_setting</th>\n",
       "      <th>company_location</th>\n",
       "      <th>company_size</th>\n",
       "      <th>job_category</th>\n",
       "    </tr>\n",
       "  </thead>\n",
       "  <tbody>\n",
       "    <tr>\n",
       "      <th>1</th>\n",
       "      <td>Executive</td>\n",
       "      <td>In-person</td>\n",
       "      <td>United States</td>\n",
       "      <td>M</td>\n",
       "      <td>BI and Visualization</td>\n",
       "    </tr>\n",
       "    <tr>\n",
       "      <th>2</th>\n",
       "      <td>Executive</td>\n",
       "      <td>In-person</td>\n",
       "      <td>United States</td>\n",
       "      <td>M</td>\n",
       "      <td>BI and Visualization</td>\n",
       "    </tr>\n",
       "    <tr>\n",
       "      <th>3</th>\n",
       "      <td>Senior</td>\n",
       "      <td>In-person</td>\n",
       "      <td>Canada</td>\n",
       "      <td>M</td>\n",
       "      <td>Data Architecture and Modeling</td>\n",
       "    </tr>\n",
       "    <tr>\n",
       "      <th>4</th>\n",
       "      <td>Senior</td>\n",
       "      <td>In-person</td>\n",
       "      <td>Canada</td>\n",
       "      <td>M</td>\n",
       "      <td>Data Architecture and Modeling</td>\n",
       "    </tr>\n",
       "    <tr>\n",
       "      <th>5</th>\n",
       "      <td>Mid-level</td>\n",
       "      <td>In-person</td>\n",
       "      <td>United Kingdom</td>\n",
       "      <td>M</td>\n",
       "      <td>Data Science and Research</td>\n",
       "    </tr>\n",
       "  </tbody>\n",
       "</table>\n",
       "</div>"
      ],
      "text/plain": [
       "  experience_level work_setting company_location company_size  \\\n",
       "1        Executive    In-person    United States            M   \n",
       "2        Executive    In-person    United States            M   \n",
       "3           Senior    In-person           Canada            M   \n",
       "4           Senior    In-person           Canada            M   \n",
       "5        Mid-level    In-person   United Kingdom            M   \n",
       "\n",
       "                     job_category  \n",
       "1            BI and Visualization  \n",
       "2            BI and Visualization  \n",
       "3  Data Architecture and Modeling  \n",
       "4  Data Architecture and Modeling  \n",
       "5       Data Science and Research  "
      ]
     },
     "execution_count": 65,
     "metadata": {},
     "output_type": "execute_result"
    }
   ],
   "source": [
    "X.head()"
   ]
  },
  {
   "cell_type": "code",
   "execution_count": 66,
   "id": "aa82b679",
   "metadata": {},
   "outputs": [
    {
     "data": {
      "text/plain": [
       "1        230000\n",
       "2        176900\n",
       "3        171210\n",
       "4         92190\n",
       "5         57753\n",
       "          ...  \n",
       "14191    119059\n",
       "14194    165000\n",
       "14195    412000\n",
       "14196    151000\n",
       "14197    105000\n",
       "Name: salary_in_usd, Length: 13939, dtype: int64"
      ]
     },
     "execution_count": 66,
     "metadata": {},
     "output_type": "execute_result"
    }
   ],
   "source": [
    "y"
   ]
  },
  {
   "cell_type": "code",
   "execution_count": 79,
   "id": "320a6a39",
   "metadata": {},
   "outputs": [
    {
     "data": {
      "text/plain": [
       "((11151, 5), (2788, 5))"
      ]
     },
     "execution_count": 79,
     "metadata": {},
     "output_type": "execute_result"
    }
   ],
   "source": [
    "# separate dataset into train and test\n",
    "from sklearn.model_selection import train_test_split\n",
    "seed = 31\n",
    "X_train, X_test, y_train, y_test = train_test_split(X,y,test_size=0.2,random_state=seed)\n",
    "X_train.shape, X_test.shape"
   ]
  },
  {
   "cell_type": "code",
   "execution_count": 80,
   "id": "1e290fe3",
   "metadata": {},
   "outputs": [],
   "source": [
    "num_features = X.select_dtypes(exclude=\"object\").columns\n",
    "cat_features = X.select_dtypes(include=\"object\").columns\n",
    "\n",
    "from sklearn.preprocessing import OneHotEncoder, StandardScaler\n",
    "from sklearn.impute import SimpleImputer\n",
    "from sklearn.compose import ColumnTransformer\n",
    "from sklearn.pipeline import Pipeline\n",
    "\n",
    "numeric_transformer = StandardScaler()\n",
    "oh_transformer = OneHotEncoder()\n",
    "\n",
    "num_pipeline = Pipeline(\n",
    "    steps=[\n",
    "            (\"imputer\", SimpleImputer(strategy=\"median\")),\n",
    "            (\"scaler\", StandardScaler(with_mean=False))\n",
    "    ]\n",
    ")\n",
    "cat_pipeline = Pipeline(\n",
    "        steps=[\n",
    "                (\"imputer\", SimpleImputer(strategy=\"most_frequent\")),\n",
    "                (\"one_hot_encoder\", OneHotEncoder()),\n",
    "        ]\n",
    ")        \n",
    "\n",
    "preprocessor = ColumnTransformer(\n",
    "    [\n",
    "        (\"num_pipeline\", num_pipeline, num_features),\n",
    "         (\"cat_pipeline\", cat_pipeline, cat_features),        \n",
    "    ]\n",
    ")"
   ]
  },
  {
   "cell_type": "code",
   "execution_count": 81,
   "id": "9c68f99a",
   "metadata": {},
   "outputs": [],
   "source": [
    "X_train = preprocessor.fit_transform(X_train)"
   ]
  },
  {
   "cell_type": "code",
   "execution_count": 82,
   "id": "72459f1d",
   "metadata": {},
   "outputs": [
    {
     "data": {
      "text/plain": [
       "(11151, 25)"
      ]
     },
     "execution_count": 82,
     "metadata": {},
     "output_type": "execute_result"
    }
   ],
   "source": [
    "X_train.shape"
   ]
  },
  {
   "cell_type": "markdown",
   "id": "4cd80317",
   "metadata": {},
   "source": [
    "#### Create an Evaluate Function to give all metrics after model Training"
   ]
  },
  {
   "cell_type": "code",
   "execution_count": 72,
   "id": "8c247bd0",
   "metadata": {},
   "outputs": [],
   "source": [
    "def evaluate_model(true, predicted):\n",
    "    mae = mean_absolute_error(true, predicted)\n",
    "    mse = mean_squared_error(true, predicted)\n",
    "    rmse = np.sqrt(mse)\n",
    "    r2_square = r2_score(true, predicted)\n",
    "    return mae, rmse, r2_square"
   ]
  },
  {
   "cell_type": "code",
   "execution_count": 73,
   "id": "cf242c6f",
   "metadata": {},
   "outputs": [],
   "source": [
    "from sklearn.model_selection import GridSearchCV\n",
    "from sklearn.metrics import r2_score\n",
    "\n",
    "models = {\n",
    "    \"Random Forest\": RandomForestRegressor(),\n",
    "    \"Decision Tree\": DecisionTreeRegressor(),\n",
    "    \"Gradient Boosting\": GradientBoostingRegressor(),\n",
    "    \"Linear Regression\": LinearRegression(),\n",
    "    \"K-Neighbors\": KNeighborsRegressor(),\n",
    "    \"XGBoost\": XGBRegressor(),\n",
    "    \"CatBoost\": CatBoostRegressor(verbose=False),\n",
    "    \"AdaBoost\": AdaBoostRegressor()\n",
    "}\n",
    "\n",
    "params={\n",
    "    \"Decision Tree\": {\n",
    "        'criterion': ['squared_error', 'friedman_mse', 'absolute_error', 'poisson'],\n",
    "        'splitter': ['best', 'random'],\n",
    "        'max_features': ['sqrt', 'log2'],\n",
    "    },\n",
    "    \"Random Forest\": {\n",
    "        'criterion': ['squared_error', 'friedman_mse', 'absolute_error', 'poisson'],\n",
    "        'max_features': ['sqrt', 'log2'],\n",
    "        'n_estimators': [8, 16, 32, 64, 128, 256]\n",
    "    },\n",
    "    \"Gradient Boosting\": {\n",
    "        'loss': ['squared_error', 'huber', 'absolute_error', 'quantile'],\n",
    "        'learning_rate': [.1, .01, .05, .001],\n",
    "        'subsample': [0.6, 0.7, 0.75, 0.8, 0.85, 0.9],\n",
    "        'criterion': ['squared_error', 'friedman_mse'],\n",
    "        'max_features': ['auto', 'sqrt', 'log2'],\n",
    "        'n_estimators': [8, 16, 32, 64, 128, 256]\n",
    "    },\n",
    "    \"K-Neighbors\": {},\n",
    "    \"Linear Regression\": {},\n",
    "    \"XGBoost\": {\n",
    "        'learning_rate': [.1, .01, .05, .001],\n",
    "        'n_estimators': [8, 16, 32, 64, 128, 256]\n",
    "    },\n",
    "    \"CatBoost\": {\n",
    "        'depth': [6, 8, 10],\n",
    "        'learning_rate': [0.01, 0.05, 0.1],\n",
    "        'iterations': [30, 50, 100]\n",
    "    },\n",
    "    \"AdaBoost\": {\n",
    "        'learning_rate': [.1, .01, 0.5, .001],\n",
    "        'loss': ['linear', 'square', 'exponential'],\n",
    "        'n_estimators': [8, 16, 32, 64, 128, 256]\n",
    "    }   \n",
    "}"
   ]
  },
  {
   "cell_type": "code",
   "execution_count": 74,
   "id": "79ccb8e7",
   "metadata": {
    "scrolled": false
   },
   "outputs": [
    {
     "name": "stdout",
     "output_type": "stream",
     "text": [
      "\n",
      "\n",
      "Model performance for Training set\n",
      "Model:  Random Forest\n",
      "- Root Mean Squared Error: 51881.8874\n",
      "- Mean Absolute Error: 39427.0390\n",
      "- R2 Score: -0.9480\n",
      "\n",
      "\n",
      "Model performance for Training set\n",
      "Model:  Decision Tree\n",
      "- Root Mean Squared Error: 51851.3302\n",
      "- Mean Absolute Error: 39302.5563\n",
      "- R2 Score: -0.9157\n"
     ]
    },
    {
     "name": "stderr",
     "output_type": "stream",
     "text": [
      "c:\\Users\\Vanderval\\AppData\\Local\\Programs\\Python\\Python311\\Lib\\site-packages\\sklearn\\model_selection\\_validation.py:540: FitFailedWarning: \n",
      "11520 fits failed out of a total of 34560.\n",
      "The score on these train-test partitions for these parameters will be set to nan.\n",
      "If these failures are not expected, you can try to debug them by setting error_score='raise'.\n",
      "\n",
      "Below are more details about the failures:\n",
      "--------------------------------------------------------------------------------\n",
      "11520 fits failed with the following error:\n",
      "Traceback (most recent call last):\n",
      "  File \"c:\\Users\\Vanderval\\AppData\\Local\\Programs\\Python\\Python311\\Lib\\site-packages\\sklearn\\model_selection\\_validation.py\", line 888, in _fit_and_score\n",
      "    estimator.fit(X_train, y_train, **fit_params)\n",
      "  File \"c:\\Users\\Vanderval\\AppData\\Local\\Programs\\Python\\Python311\\Lib\\site-packages\\sklearn\\base.py\", line 1466, in wrapper\n",
      "    estimator._validate_params()\n",
      "  File \"c:\\Users\\Vanderval\\AppData\\Local\\Programs\\Python\\Python311\\Lib\\site-packages\\sklearn\\base.py\", line 666, in _validate_params\n",
      "    validate_parameter_constraints(\n",
      "  File \"c:\\Users\\Vanderval\\AppData\\Local\\Programs\\Python\\Python311\\Lib\\site-packages\\sklearn\\utils\\_param_validation.py\", line 95, in validate_parameter_constraints\n",
      "    raise InvalidParameterError(\n",
      "sklearn.utils._param_validation.InvalidParameterError: The 'max_features' parameter of GradientBoostingRegressor must be an int in the range [1, inf), a float in the range (0.0, 1.0], a str among {'log2', 'sqrt'} or None. Got 'auto' instead.\n",
      "\n",
      "  warnings.warn(some_fits_failed_message, FitFailedWarning)\n",
      "c:\\Users\\Vanderval\\AppData\\Local\\Programs\\Python\\Python311\\Lib\\site-packages\\sklearn\\model_selection\\_search.py:1052: UserWarning: One or more of the test scores are non-finite: [        nan         nan         nan ... -1.63376105 -1.63374853\n",
      " -1.63283035]\n",
      "  warnings.warn(\n"
     ]
    },
    {
     "name": "stdout",
     "output_type": "stream",
     "text": [
      "\n",
      "\n",
      "Model performance for Training set\n",
      "Model:  Gradient Boosting\n",
      "- Root Mean Squared Error: 52358.3036\n",
      "- Mean Absolute Error: 39926.8428\n",
      "- R2 Score: -1.0748\n",
      "\n",
      "\n",
      "Model performance for Training set\n",
      "Model:  Linear Regression\n",
      "- Root Mean Squared Error: 53161.8911\n",
      "- Mean Absolute Error: 40767.2226\n",
      "- R2 Score: -1.2327\n",
      "\n",
      "\n",
      "Model performance for Training set\n",
      "Model:  K-Neighbors\n",
      "- Root Mean Squared Error: 55596.1847\n",
      "- Mean Absolute Error: 41894.4294\n",
      "- R2 Score: -1.6343\n",
      "\n",
      "\n",
      "Model performance for Training set\n",
      "Model:  XGBoost\n",
      "- Root Mean Squared Error: 52036.2864\n",
      "- Mean Absolute Error: 39619.1739\n",
      "- R2 Score: -1.0414\n",
      "\n",
      "\n",
      "Model performance for Training set\n",
      "Model:  CatBoost\n",
      "- Root Mean Squared Error: 52296.7618\n",
      "- Mean Absolute Error: 39910.2809\n",
      "- R2 Score: -1.1241\n",
      "\n",
      "\n",
      "Model performance for Training set\n",
      "Model:  AdaBoost\n",
      "- Root Mean Squared Error: 55577.3476\n",
      "- Mean Absolute Error: 43597.4872\n",
      "- R2 Score: -2.7186\n",
      "\n",
      "\n",
      "\n",
      "Best Model\n",
      "Model:  Decision Tree\n",
      "Parameters:  {'criterion': 'squared_error', 'max_features': 'log2', 'splitter': 'random'}\n",
      "Lowest RMSE: 51851.3302\n"
     ]
    }
   ],
   "source": [
    "best_model_name = None\n",
    "best_model_params = None\n",
    "lowest_rmse = float('inf')\n",
    "best_model = None\n",
    "\n",
    "for model_name, model in models.items():\n",
    "    param = params.get(model_name, {})\n",
    "    gs = GridSearchCV(model, param, cv=10)\n",
    "    gs.fit(X_train, y_train)\n",
    "\n",
    "    best_estimator = gs.best_estimator_\n",
    "    best_estimator.fit(X_train, y_train)\n",
    "\n",
    "    y_train_pred = best_estimator.predict(X_train)\n",
    "    mae, rmse, r2_square = evaluate_model(y_train_pred, y_train)\n",
    "    \n",
    "    print('\\n\\nModel performance for Training set')\n",
    "    print('Model: ', model_name)\n",
    "    print(\"- Root Mean Squared Error: {:.4f}\".format(rmse))\n",
    "    print(\"- Mean Absolute Error: {:.4f}\".format(mae))\n",
    "    print(\"- R2 Score: {:.4f}\".format(r2_square))\n",
    "\n",
    "    if rmse < lowest_rmse:\n",
    "        lowest_rmse = rmse\n",
    "        best_model_name = model_name\n",
    "        best_model_params = gs.best_params_\n",
    "        best_model = best_estimator\n",
    "\n",
    "print(\"\\n\\n\\nBest Model\")\n",
    "print(\"Model: \", best_model_name)\n",
    "print(\"Parameters: \", best_model_params)\n",
    "print(\"Lowest RMSE: {:.4f}\".format(lowest_rmse))"
   ]
  },
  {
   "cell_type": "code",
   "execution_count": 89,
   "id": "617713ac",
   "metadata": {},
   "outputs": [
    {
     "name": "stdout",
     "output_type": "stream",
     "text": [
      "\n",
      "\n",
      "Dummy Model performance\n",
      "- Root Mean Squared Error: 63968.7782\n",
      "- Mean Absolute Error: 50191.1872\n",
      "- R2 Score: 0.0000\n",
      "- Parameters:  {'strategy': 'mean'}\n"
     ]
    }
   ],
   "source": [
    "dummyModel = DummyRegressor()\n",
    "params = {\"strategy\": [\"mean\", \"median\"]}\n",
    "gs = GridSearchCV(dummyModel, params, cv=10)\n",
    "gs.fit(X_train, y_train)\n",
    "\n",
    "best_estimator = gs.best_estimator_\n",
    "best_estimator.fit(X_train, y_train)\n",
    "\n",
    "y_train_pred = best_estimator.predict(X_train)\n",
    "mae, rmse, r2_square = evaluate_model(y_train_pred, y_train)\n",
    "    \n",
    "print('\\n\\nDummy Model performance')\n",
    "print(\"- Root Mean Squared Error: {:.4f}\".format(rmse))\n",
    "print(\"- Mean Absolute Error: {:.4f}\".format(mae))\n",
    "print(\"- R2 Score: {:.4f}\".format(r2_square))\n",
    "print(\"- Parameters: \", gs.best_params_)"
   ]
  },
  {
   "cell_type": "markdown",
   "id": "06480b5a",
   "metadata": {},
   "source": [
    "### Results\n",
    "\n",
    "As we can see, no model performed better then the dummy model using the simple mean of the observations. This indicates that either our models are not effectively capturing the underlying patterns in the data, or the data itself may not contain significant patterns that more complex models can exploit. "
   ]
  }
 ],
 "metadata": {
  "kernelspec": {
   "display_name": "Python 3 (ipykernel)",
   "language": "python",
   "name": "python3"
  },
  "language_info": {
   "codemirror_mode": {
    "name": "ipython",
    "version": 3
   },
   "file_extension": ".py",
   "mimetype": "text/x-python",
   "name": "python",
   "nbconvert_exporter": "python",
   "pygments_lexer": "ipython3",
   "version": "3.11.4"
  }
 },
 "nbformat": 4,
 "nbformat_minor": 5
}
